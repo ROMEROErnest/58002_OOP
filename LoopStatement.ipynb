{
  "nbformat": 4,
  "nbformat_minor": 0,
  "metadata": {
    "colab": {
      "provenance": [],
      "authorship_tag": "ABX9TyMNSjvGbwgVCSdOC0mk6o3A",
      "include_colab_link": true
    },
    "kernelspec": {
      "name": "python3",
      "display_name": "Python 3"
    },
    "language_info": {
      "name": "python"
    }
  },
  "cells": [
    {
      "cell_type": "markdown",
      "metadata": {
        "id": "view-in-github",
        "colab_type": "text"
      },
      "source": [
        "<a href=\"https://colab.research.google.com/github/ROMEROErnest/58002_OOP/blob/main/LoopStatement.ipynb\" target=\"_parent\"><img src=\"https://colab.research.google.com/assets/colab-badge.svg\" alt=\"Open In Colab\"/></a>"
      ]
    },
    {
      "cell_type": "markdown",
      "source": [
        "For Loop"
      ],
      "metadata": {
        "id": "vONJb9dsnpHr"
      }
    },
    {
      "cell_type": "code",
      "source": [
        "week = [\"Sunday\", \"Monday\", \"Tuesday\", \"Wednesday\", \"Thursday\", \"Friday\", \"Saturday\"]\n",
        "for x in week:\n",
        "  print(x)"
      ],
      "metadata": {
        "colab": {
          "base_uri": "https://localhost:8080/"
        },
        "id": "SamnRkN4nquM",
        "outputId": "8d904ea9-43a6-4596-baa7-568a542a6f4b"
      },
      "execution_count": 7,
      "outputs": [
        {
          "output_type": "stream",
          "name": "stdout",
          "text": [
            "Sunday\n",
            "Monday\n",
            "Tuesday\n",
            "Wednesday\n",
            "Thursday\n",
            "Friday\n",
            "Saturday\n"
          ]
        }
      ]
    },
    {
      "cell_type": "markdown",
      "source": [
        "For Loop using BreaK Statement"
      ],
      "metadata": {
        "id": "rUMB1IKyo16z"
      }
    },
    {
      "cell_type": "code",
      "source": [
        "for x in week:\n",
        "  print(x)\n",
        "  if x== \"Thursday\":\n",
        "      break"
      ],
      "metadata": {
        "colab": {
          "base_uri": "https://localhost:8080/"
        },
        "id": "2UDizhqCpDsr",
        "outputId": "4f6c0f86-c118-490a-aa76-ef54852e106a"
      },
      "execution_count": 11,
      "outputs": [
        {
          "output_type": "stream",
          "name": "stdout",
          "text": [
            "Sunday\n",
            "Monday\n",
            "Tuesday\n",
            "Wednesday\n",
            "Thursday\n"
          ]
        }
      ]
    },
    {
      "cell_type": "markdown",
      "source": [
        "To display only Thursday"
      ],
      "metadata": {
        "id": "8XSMrh7gp8wj"
      }
    },
    {
      "cell_type": "code",
      "source": [
        "for x in week:\n",
        "\n",
        "  if x == \"Thursday\":\n",
        "   print(x)\n",
        "   break"
      ],
      "metadata": {
        "colab": {
          "base_uri": "https://localhost:8080/"
        },
        "id": "Dtb7rsiDp_f7",
        "outputId": "f2757aed-70d8-499a-b42f-ff4b4adedd34"
      },
      "execution_count": 16,
      "outputs": [
        {
          "output_type": "stream",
          "name": "stdout",
          "text": [
            "Thursday\n"
          ]
        }
      ]
    },
    {
      "cell_type": "markdown",
      "source": [
        "Range() Function"
      ],
      "metadata": {
        "id": "G_dIJUtSq62E"
      }
    },
    {
      "cell_type": "code",
      "source": [
        "for x in range(6):\n",
        "  print(x)"
      ],
      "metadata": {
        "colab": {
          "base_uri": "https://localhost:8080/"
        },
        "id": "R7ZdUqCeq-Lj",
        "outputId": "98e98552-4e8d-44f8-ffac-be3ec399f8ee"
      },
      "execution_count": 17,
      "outputs": [
        {
          "output_type": "stream",
          "name": "stdout",
          "text": [
            "0\n",
            "1\n",
            "2\n",
            "3\n",
            "4\n",
            "5\n"
          ]
        }
      ]
    },
    {
      "cell_type": "markdown",
      "source": [
        "Nested Loop"
      ],
      "metadata": {
        "id": "iBzyh_81sRu7"
      }
    },
    {
      "cell_type": "code",
      "source": [
        "adjective = [\"Red\", \"Big\", \"Tasty\"]\n",
        "fruits = [\"Apple\", \"Banana\", \"Cherry\"]\n",
        "for x in adjective:\n",
        "   for y in fruits:\n",
        "     print(x,y)"
      ],
      "metadata": {
        "colab": {
          "base_uri": "https://localhost:8080/"
        },
        "id": "I6uS8RZzsVzD",
        "outputId": "b3b162c5-ea22-4769-f9ef-b9860a58c7a9"
      },
      "execution_count": 19,
      "outputs": [
        {
          "output_type": "stream",
          "name": "stdout",
          "text": [
            "Red Apple\n",
            "Red Banana\n",
            "Red Cherry\n",
            "Big Apple\n",
            "Big Banana\n",
            "Big Cherry\n",
            "Tasty Apple\n",
            "Tasty Banana\n",
            "Tasty Cherry\n"
          ]
        }
      ]
    },
    {
      "cell_type": "markdown",
      "source": [
        "While Loop"
      ],
      "metadata": {
        "id": "qUsltHMEvs-7"
      }
    },
    {
      "cell_type": "code",
      "source": [
        "i = 1\n",
        "while i<=6:\n",
        "  print(i)\n",
        "  i += 1"
      ],
      "metadata": {
        "colab": {
          "base_uri": "https://localhost:8080/"
        },
        "id": "rytjq2Ifvu4y",
        "outputId": "d4c5282e-4fe6-4a0a-93e7-23b39e239511"
      },
      "execution_count": 20,
      "outputs": [
        {
          "output_type": "stream",
          "name": "stdout",
          "text": [
            "1\n",
            "2\n",
            "3\n",
            "4\n",
            "5\n",
            "6\n"
          ]
        }
      ]
    },
    {
      "cell_type": "markdown",
      "source": [
        "While Loop using Break Statement"
      ],
      "metadata": {
        "id": "uZ5BndsuwpYB"
      }
    },
    {
      "cell_type": "code",
      "source": [
        "i = 1\n",
        "while i <= 6:\n",
        "  print(i)\n",
        "  if i == 3:\n",
        "    break\n",
        "  i += 1"
      ],
      "metadata": {
        "colab": {
          "base_uri": "https://localhost:8080/"
        },
        "id": "DNmbjkF3wtc4",
        "outputId": "456f0f7d-7dca-4f5d-9824-5e0d6dc8a1f2"
      },
      "execution_count": 24,
      "outputs": [
        {
          "output_type": "stream",
          "name": "stdout",
          "text": [
            "1\n",
            "2\n",
            "3\n"
          ]
        }
      ]
    },
    {
      "cell_type": "markdown",
      "source": [
        "Display only 3"
      ],
      "metadata": {
        "id": "J7Xmz0NTxyfB"
      }
    },
    {
      "cell_type": "code",
      "source": [
        "i = 1\n",
        "while 1 <= 6:\n",
        "  if i == 3:\n",
        "   print (i)\n",
        "   break\n",
        "  i += 1"
      ],
      "metadata": {
        "colab": {
          "base_uri": "https://localhost:8080/"
        },
        "id": "MVDgxcz5x04p",
        "outputId": "04b21bfc-a234-4b7f-d208-60367f95932b"
      },
      "execution_count": 27,
      "outputs": [
        {
          "output_type": "stream",
          "name": "stdout",
          "text": [
            "3\n"
          ]
        }
      ]
    },
    {
      "cell_type": "markdown",
      "source": [
        "Let's try 1"
      ],
      "metadata": {
        "id": "iaU_IIWvyfNh"
      }
    },
    {
      "cell_type": "code",
      "source": [
        "x=0\n",
        "while x <= 10:\n",
        "  print(\"Hello\", x)\n",
        "  x += 1"
      ],
      "metadata": {
        "colab": {
          "base_uri": "https://localhost:8080/"
        },
        "id": "ugWdoMnsyhHR",
        "outputId": "cca0ee4f-cc23-4060-aee3-d81f58924681"
      },
      "execution_count": 28,
      "outputs": [
        {
          "output_type": "stream",
          "name": "stdout",
          "text": [
            "Hello 0\n",
            "Hello 1\n",
            "Hello 2\n",
            "Hello 3\n",
            "Hello 4\n",
            "Hello 5\n",
            "Hello 6\n",
            "Hello 7\n",
            "Hello 8\n",
            "Hello 9\n",
            "Hello 10\n"
          ]
        }
      ]
    },
    {
      "cell_type": "markdown",
      "source": [
        "Let's Try 2"
      ],
      "metadata": {
        "id": "79Z55o09yrCa"
      }
    },
    {
      "cell_type": "code",
      "source": [
        "x = 1\n",
        "while x < 10:\n",
        "  if x < 3:\n",
        "    print()\n",
        "    x += 1\n",
        "  else:\n",
        "    print(x)\n",
        "    x += 1"
      ],
      "metadata": {
        "colab": {
          "base_uri": "https://localhost:8080/"
        },
        "id": "NoZGi-3LyvFp",
        "outputId": "af7bebae-bedb-4cf0-dc64-f3de2b689ce8"
      },
      "execution_count": 35,
      "outputs": [
        {
          "output_type": "stream",
          "name": "stdout",
          "text": [
            "\n",
            "\n",
            "3\n",
            "4\n",
            "5\n",
            "6\n",
            "7\n",
            "8\n",
            "9\n"
          ]
        }
      ]
    }
  ]
}