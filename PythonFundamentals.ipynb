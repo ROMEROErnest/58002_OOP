{
  "nbformat": 4,
  "nbformat_minor": 0,
  "metadata": {
    "colab": {
      "provenance": [],
      "authorship_tag": "ABX9TyM2cb15zM7qR6rjq1/lpuF4",
      "include_colab_link": true
    },
    "kernelspec": {
      "name": "python3",
      "display_name": "Python 3"
    },
    "language_info": {
      "name": "python"
    }
  },
  "cells": [
    {
      "cell_type": "markdown",
      "metadata": {
        "id": "view-in-github",
        "colab_type": "text"
      },
      "source": [
        "<a href=\"https://colab.research.google.com/github/ROMEROErnest/58002_OOP/blob/main/PythonFundamentals.ipynb\" target=\"_parent\"><img src=\"https://colab.research.google.com/assets/colab-badge.svg\" alt=\"Open In Colab\"/></a>"
      ]
    },
    {
      "cell_type": "code",
      "execution_count": null,
      "metadata": {
        "id": "6dXdWVE-wZ1g"
      },
      "outputs": [],
      "source": []
    },
    {
      "cell_type": "markdown",
      "source": [
        "Python Indentation"
      ],
      "metadata": {
        "id": "gk69QD2hwwau"
      }
    },
    {
      "cell_type": "code",
      "source": [
        "if 5>2:\n",
        "  print(\"5>2\")"
      ],
      "metadata": {
        "colab": {
          "base_uri": "https://localhost:8080/"
        },
        "id": "6-cqRH-pw2Nt",
        "outputId": "76ae2630-b8cd-45c9-ebba-a7d42a0a4d4f"
      },
      "execution_count": null,
      "outputs": [
        {
          "output_type": "stream",
          "name": "stdout",
          "text": [
            "5>2\n"
          ]
        }
      ]
    },
    {
      "cell_type": "markdown",
      "source": [
        "Python Comment"
      ],
      "metadata": {
        "id": "L_pe0Ommx4Vu"
      }
    },
    {
      "cell_type": "code",
      "source": [
        "#This is a comment\n",
        "print(\"Hello, World!\")"
      ],
      "metadata": {
        "colab": {
          "base_uri": "https://localhost:8080/"
        },
        "id": "SJ05hX6Yx6ou",
        "outputId": "b0eedabf-ca25-41fe-c85a-e37461a63c68"
      },
      "execution_count": null,
      "outputs": [
        {
          "output_type": "stream",
          "name": "stdout",
          "text": [
            "Hello, World!\n"
          ]
        }
      ]
    },
    {
      "cell_type": "markdown",
      "source": [
        "Naming Variable"
      ],
      "metadata": {
        "id": "fDLTrFgqyS52"
      }
    },
    {
      "cell_type": "code",
      "source": [],
      "metadata": {
        "id": "Ul0m60jHy-yM"
      },
      "execution_count": null,
      "outputs": []
    },
    {
      "cell_type": "code",
      "source": [
        "from traitlets.config.application import get_config\n",
        "#Single variable with single value\n",
        "x = 1\n",
        "y = 2\n",
        "print(x)\n",
        "print(y)\n",
        "\n",
        "#Multiple variable with single value\n",
        "\n",
        "a = b = c = \"Romero, Ernest\"\n",
        "print(a)\n",
        "print(b) \n",
        "print(c)\n",
        "\n",
        "#Multiple variables with multiple values\n",
        "e, f,g=1,2,3\n",
        "print(e)\n",
        "print(f)\n",
        "print(g)"
      ],
      "metadata": {
        "colab": {
          "base_uri": "https://localhost:8080/"
        },
        "id": "KINuK7sXyULd",
        "outputId": "2c939d3d-7b2a-4026-e36d-a19c7bb68a86"
      },
      "execution_count": null,
      "outputs": [
        {
          "output_type": "stream",
          "name": "stdout",
          "text": [
            "1\n",
            "2\n",
            "Romero, Ernest\n",
            "Romero, Ernest\n",
            "Romero, Ernest\n",
            "1\n",
            "2\n",
            "3\n"
          ]
        }
      ]
    },
    {
      "cell_type": "code",
      "source": [],
      "metadata": {
        "id": "bw0XwbEZ1MI1"
      },
      "execution_count": null,
      "outputs": []
    },
    {
      "cell_type": "markdown",
      "source": [
        "Single or Double"
      ],
      "metadata": {
        "id": "JvMW_MGN0shN"
      }
    },
    {
      "cell_type": "code",
      "source": [
        "v = \"Sally\"\n",
        "u = 'Sally'\n",
        "print(u)\n",
        "print(v)"
      ],
      "metadata": {
        "colab": {
          "base_uri": "https://localhost:8080/"
        },
        "id": "_58zPkcw01Ls",
        "outputId": "51f5922f-d3fc-4843-e7bd-fa39da278e02"
      },
      "execution_count": null,
      "outputs": [
        {
          "output_type": "stream",
          "name": "stdout",
          "text": [
            "Sally\n",
            "Sally\n"
          ]
        }
      ]
    },
    {
      "cell_type": "markdown",
      "source": [
        "Casting"
      ],
      "metadata": {
        "id": "4M25YihQ1Eg1"
      }
    },
    {
      "cell_type": "code",
      "source": [
        "p = float(5)\n",
        "p"
      ],
      "metadata": {
        "colab": {
          "base_uri": "https://localhost:8080/"
        },
        "id": "VUZb71Db1Oos",
        "outputId": "4712ebcd-06da-44a9-c45c-6ab8ef5537be"
      },
      "execution_count": null,
      "outputs": [
        {
          "output_type": "execute_result",
          "data": {
            "text/plain": [
              "5.0"
            ]
          },
          "metadata": {},
          "execution_count": 25
        }
      ]
    },
    {
      "cell_type": "markdown",
      "source": [
        "Type() Function"
      ],
      "metadata": {
        "id": "wYLeJeTu1iBN"
      }
    },
    {
      "cell_type": "code",
      "source": [
        "f = \"Nest\"\n",
        "g = 5.0\n",
        "h = 5\n",
        "print(type(f))\n",
        "print(type(g))\n",
        "print(type(h))"
      ],
      "metadata": {
        "colab": {
          "base_uri": "https://localhost:8080/"
        },
        "id": "6pGbC-qi1539",
        "outputId": "8c6362cd-e3f4-4822-8340-a2800e4e6db1"
      },
      "execution_count": null,
      "outputs": [
        {
          "output_type": "stream",
          "name": "stdout",
          "text": [
            "<class 'str'>\n",
            "<class 'float'>\n",
            "<class 'int'>\n"
          ]
        }
      ]
    },
    {
      "cell_type": "markdown",
      "source": [
        "Concatenation using + symbol"
      ],
      "metadata": {
        "id": "-wElvKI33CDk"
      }
    },
    {
      "cell_type": "code",
      "source": [
        "k = \"enjoying\"\n",
        "j = \"Python programming is\"\n",
        "print(\"Python Programming is\" +\" \" + k)\n",
        "print(j+k)"
      ],
      "metadata": {
        "colab": {
          "base_uri": "https://localhost:8080/"
        },
        "id": "KojpR-VL3Fn0",
        "outputId": "f4bcb533-5ac4-4b48-fa4c-50c9703e267f"
      },
      "execution_count": null,
      "outputs": [
        {
          "output_type": "stream",
          "name": "stdout",
          "text": [
            "Python Programming is enjoying\n",
            "Python programming isenjoying\n"
          ]
        }
      ]
    }
  ]
}