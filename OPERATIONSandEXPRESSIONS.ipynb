{
  "nbformat": 4,
  "nbformat_minor": 0,
  "metadata": {
    "colab": {
      "provenance": [],
      "authorship_tag": "ABX9TyPxMlFbS3LhA5PcHZQ8pGeK",
      "include_colab_link": true
    },
    "kernelspec": {
      "name": "python3",
      "display_name": "Python 3"
    },
    "language_info": {
      "name": "python"
    }
  },
  "cells": [
    {
      "cell_type": "markdown",
      "metadata": {
        "id": "view-in-github",
        "colab_type": "text"
      },
      "source": [
        "<a href=\"https://colab.research.google.com/github/ROMEROErnest/58002_OOP/blob/main/OPERATIONSandEXPRESSIONS.ipynb\" target=\"_parent\"><img src=\"https://colab.research.google.com/assets/colab-badge.svg\" alt=\"Open In Colab\"/></a>"
      ]
    },
    {
      "cell_type": "code",
      "execution_count": null,
      "metadata": {
        "id": "fvji-ekdzt1K"
      },
      "outputs": [],
      "source": []
    },
    {
      "cell_type": "markdown",
      "source": [
        "Bolean Operators"
      ],
      "metadata": {
        "id": "vlun5vHjzzRu"
      }
    },
    {
      "cell_type": "code",
      "source": [
        "print(10>9)\n",
        "print(10<9)\n",
        "print(10==9)"
      ],
      "metadata": {
        "colab": {
          "base_uri": "https://localhost:8080/"
        },
        "id": "sKlVrsgTz8Qm",
        "outputId": "ba277b5e-04eb-4230-b5e8-6f2040a5dcb4"
      },
      "execution_count": 3,
      "outputs": [
        {
          "output_type": "stream",
          "name": "stdout",
          "text": [
            "True\n",
            "False\n",
            "False\n"
          ]
        }
      ]
    },
    {
      "cell_type": "code",
      "source": [
        "a = 10\n",
        "b = 9\n",
        "print(a>b)\n",
        "print(a<b)\n",
        "print(a==b)\n",
        "print(b==b)"
      ],
      "metadata": {
        "colab": {
          "base_uri": "https://localhost:8080/"
        },
        "id": "C_631etU0ezm",
        "outputId": "186e5982-47a7-4e3d-e60a-17e10a86a92a"
      },
      "execution_count": 5,
      "outputs": [
        {
          "output_type": "stream",
          "name": "stdout",
          "text": [
            "True\n",
            "False\n",
            "False\n",
            "True\n"
          ]
        }
      ]
    },
    {
      "cell_type": "markdown",
      "source": [
        "Bool() Function"
      ],
      "metadata": {
        "id": "4FkdG0lf03Pe"
      }
    },
    {
      "cell_type": "code",
      "source": [
        "print(bool(1))\n",
        "print(bool(\"Ana\"))\n",
        "print(bool(0))\n",
        "print(bool(None))\n",
        "print(bool(\"Null\"))"
      ],
      "metadata": {
        "colab": {
          "base_uri": "https://localhost:8080/"
        },
        "id": "mW2A6l9w06ju",
        "outputId": "3acfbc35-6479-4873-b186-113339bfb6c6"
      },
      "execution_count": 11,
      "outputs": [
        {
          "output_type": "stream",
          "name": "stdout",
          "text": [
            "True\n",
            "True\n",
            "False\n",
            "False\n",
            "True\n"
          ]
        }
      ]
    },
    {
      "cell_type": "markdown",
      "source": [
        "Functions can return a Bolean"
      ],
      "metadata": {
        "id": "dGwKGzIO2KeX"
      }
    },
    {
      "cell_type": "code",
      "source": [
        "def myFunction():\n",
        "  return False\n",
        "\n",
        "print(myFunction())"
      ],
      "metadata": {
        "colab": {
          "base_uri": "https://localhost:8080/"
        },
        "id": "UBlxjSDC2NBG",
        "outputId": "e204b9db-869e-4513-d4d4-bbd6c6223c72"
      },
      "execution_count": 13,
      "outputs": [
        {
          "output_type": "stream",
          "name": "stdout",
          "text": [
            "False\n"
          ]
        }
      ]
    },
    {
      "cell_type": "code",
      "source": [
        "def myFunction():\n",
        "  return True\n",
        "\n",
        "if myFunction():\n",
        " print(\"Yes!\")\n",
        "\n",
        "else:\n",
        "  print(\"No!\")"
      ],
      "metadata": {
        "colab": {
          "base_uri": "https://localhost:8080/"
        },
        "id": "UGeoUtlA2h83",
        "outputId": "3441583d-cac8-4ddb-9f9a-5832a7d0d0b2"
      },
      "execution_count": 18,
      "outputs": [
        {
          "output_type": "stream",
          "name": "stdout",
          "text": [
            "Yes!\n"
          ]
        }
      ]
    },
    {
      "cell_type": "code",
      "source": [
        "a = 6\n",
        "b = 7\n",
        "\n",
        "print(a==b)\n",
        "print(a!=b)"
      ],
      "metadata": {
        "colab": {
          "base_uri": "https://localhost:8080/"
        },
        "id": "f2nQ-83l3jCP",
        "outputId": "142b6055-50fa-4b43-e5b1-1c69c85a1b77"
      },
      "execution_count": 19,
      "outputs": [
        {
          "output_type": "stream",
          "name": "stdout",
          "text": [
            "False\n",
            "True\n"
          ]
        }
      ]
    },
    {
      "cell_type": "markdown",
      "source": [
        "PYTHON OPERATORS"
      ],
      "metadata": {
        "id": "wL-3R2HU4aQm"
      }
    },
    {
      "cell_type": "code",
      "source": [
        "print( 10 + 5)\n",
        "print( 10 - 5)\n",
        "print( 10 * 5)\n",
        "print( 10 / 5)\n",
        "print( 10 // 5)\n",
        "print( 10 ** 5)\n",
        "print( 10 % 3)\n"
      ],
      "metadata": {
        "colab": {
          "base_uri": "https://localhost:8080/"
        },
        "id": "R3XfK76g4D5e",
        "outputId": "26bb1888-8bb2-462d-d429-d032f7a4472f"
      },
      "execution_count": 25,
      "outputs": [
        {
          "output_type": "stream",
          "name": "stdout",
          "text": [
            "15\n",
            "5\n",
            "50\n",
            "2.0\n",
            "2\n",
            "100000\n",
            "1\n"
          ]
        }
      ]
    },
    {
      "cell_type": "markdown",
      "source": [
        "PYTHON BITWISE OPERATORS"
      ],
      "metadata": {
        "id": "ba7DGqXW772f"
      }
    },
    {
      "cell_type": "code",
      "source": [
        "a=60\n",
        "b=13\n",
        "a<<1\n",
        "a>>1"
      ],
      "metadata": {
        "colab": {
          "base_uri": "https://localhost:8080/"
        },
        "id": "OwWhw7ec8AXV",
        "outputId": "6f450833-a2ea-4498-ecd0-5553d987432f"
      },
      "execution_count": 27,
      "outputs": [
        {
          "output_type": "execute_result",
          "data": {
            "text/plain": [
              "30"
            ]
          },
          "metadata": {},
          "execution_count": 27
        }
      ]
    },
    {
      "cell_type": "markdown",
      "source": [
        "PYTHON ASSIGNMENT OPERATORS"
      ],
      "metadata": {
        "id": "Spb1Sp8r--1P"
      }
    },
    {
      "cell_type": "code",
      "source": [
        "x=1\n",
        "x+=3\n",
        "print(x)\n",
        "\n",
        "y=1\n",
        "y-=3\n",
        "print(y)\n",
        "\n",
        "z=1\n",
        "z*=3\n",
        "print(z)\n",
        "\n",
        "a = 1\n",
        "a /= 3\n",
        "print(a)\n",
        "\n",
        "b=1\n",
        "b%=3\n",
        "print(b)"
      ],
      "metadata": {
        "colab": {
          "base_uri": "https://localhost:8080/"
        },
        "id": "XszQaxxC_CEd",
        "outputId": "6f330315-1d09-47db-b999-febf5a6a447a"
      },
      "execution_count": 28,
      "outputs": [
        {
          "output_type": "stream",
          "name": "stdout",
          "text": [
            "4\n",
            "-2\n",
            "3\n",
            "0.3333333333333333\n",
            "1\n"
          ]
        }
      ]
    },
    {
      "cell_type": "markdown",
      "source": [
        "Logical Operators"
      ],
      "metadata": {
        "id": "l31UlQN-AfHP"
      }
    },
    {
      "cell_type": "code",
      "source": [
        " x = True\n",
        " y = False"
      ],
      "metadata": {
        "id": "vUlzrHhPAhw1"
      },
      "execution_count": 39,
      "outputs": []
    },
    {
      "cell_type": "code",
      "source": [
        "print(x and y)\n",
        "print(x or y)\n",
        "print(not (x or y))"
      ],
      "metadata": {
        "colab": {
          "base_uri": "https://localhost:8080/"
        },
        "id": "DJYWwqkMAl4G",
        "outputId": "3e21b574-f122-48b4-bcd2-6e28046df378"
      },
      "execution_count": 36,
      "outputs": [
        {
          "output_type": "stream",
          "name": "stdout",
          "text": [
            "True\n",
            "True\n",
            "False\n"
          ]
        }
      ]
    },
    {
      "cell_type": "markdown",
      "source": [
        "Identity Operators"
      ],
      "metadata": {
        "id": "9wj_52zMBTWu"
      }
    },
    {
      "cell_type": "code",
      "source": [
        "print(x is y)\n",
        "print(x is not y)"
      ],
      "metadata": {
        "colab": {
          "base_uri": "https://localhost:8080/"
        },
        "id": "Ck2h9Z9VBWaH",
        "outputId": "f6e7af2e-a899-4e53-c64b-91cf66f33083"
      },
      "execution_count": 40,
      "outputs": [
        {
          "output_type": "stream",
          "name": "stdout",
          "text": [
            "False\n",
            "True\n"
          ]
        }
      ]
    }
  ]
}