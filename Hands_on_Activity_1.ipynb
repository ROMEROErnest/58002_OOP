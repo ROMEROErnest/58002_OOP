{
  "nbformat": 4,
  "nbformat_minor": 0,
  "metadata": {
    "colab": {
      "provenance": [],
      "authorship_tag": "ABX9TyOsl7qZT9+qYQAegcUsSjTT",
      "include_colab_link": true
    },
    "kernelspec": {
      "name": "python3",
      "display_name": "Python 3"
    },
    "language_info": {
      "name": "python"
    }
  },
  "cells": [
    {
      "cell_type": "markdown",
      "metadata": {
        "id": "view-in-github",
        "colab_type": "text"
      },
      "source": [
        "<a href=\"https://colab.research.google.com/github/ROMEROErnest/58002_OOP/blob/main/Hands_on_Activity_1.ipynb\" target=\"_parent\"><img src=\"https://colab.research.google.com/assets/colab-badge.svg\" alt=\"Open In Colab\"/></a>"
      ]
    },
    {
      "cell_type": "code",
      "execution_count": 3,
      "metadata": {
        "colab": {
          "base_uri": "https://localhost:8080/"
        },
        "id": "1QzaCK7o9xSL",
        "outputId": "b165c4af-8da4-4ad7-dc1e-d6994ad1cd72"
      },
      "outputs": [
        {
          "output_type": "stream",
          "name": "stdout",
          "text": [
            "Name of Students:\n",
            "Ernest\n",
            "Neil\n",
            "Jad\n",
            "\n",
            "Term Grades:\n",
            "Prelims: 86.66666666666667\n",
            "Midterms: 83.33333333333333\n",
            "Finals: 91.0\n"
          ]
        }
      ],
      "source": [
        "class Person:\n",
        "    def __init__(self, std1, std2, std3, prelims, midterms, finals):\n",
        "        self.__std1 = std1\n",
        "        self.__std2 = std2\n",
        "        self.__std3 = std3\n",
        "        self.__prelims = prelims\n",
        "        self.__midterms = midterms\n",
        "        self.__finals = finals\n",
        "\n",
        "    def Grade(self):\n",
        "        avg_prelims = sum(self.__prelims) / len(self.__prelims)\n",
        "        avg_midterms = sum(self.__midterms) / len(self.__midterms)\n",
        "        avg_finals = sum(self.__finals) / len(self.__finals)\n",
        "        return (avg_prelims, avg_midterms, avg_finals)\n",
        "\n",
        "person = Person(\"Ernest\", \"Neil\", \"Jad\", [83, 87, 90], [75, 93, 82], [88, 90, 95])\n",
        "\n",
        "print(\"Name of Students:\")\n",
        "print(person._Person__std1)\n",
        "print(person._Person__std2)\n",
        "print(person._Person__std3)\n",
        "\n",
        "print(\"\\nTerm Grades:\")\n",
        "avg_prelims, avg_midterms, avg_finals = person.Grade()\n",
        "print(\"Prelims:\", avg_prelims)\n",
        "print(\"Midterms:\", avg_midterms)\n",
        "print(\"Finals:\", avg_finals)\n"
      ]
    }
  ]
}