{
  "nbformat": 4,
  "nbformat_minor": 0,
  "metadata": {
    "colab": {
      "provenance": [],
      "authorship_tag": "ABX9TyMkXOoHt/k6Rj72BHeVHyzt",
      "include_colab_link": true
    },
    "kernelspec": {
      "name": "python3",
      "display_name": "Python 3"
    },
    "language_info": {
      "name": "python"
    }
  },
  "cells": [
    {
      "cell_type": "markdown",
      "metadata": {
        "id": "view-in-github",
        "colab_type": "text"
      },
      "source": [
        "<a href=\"https://colab.research.google.com/github/ROMEROErnest/58002_OOP/blob/main/Problem_1.ipynb\" target=\"_parent\"><img src=\"https://colab.research.google.com/assets/colab-badge.svg\" alt=\"Open In Colab\"/></a>"
      ]
    },
    {
      "cell_type": "code",
      "execution_count": 2,
      "metadata": {
        "colab": {
          "base_uri": "https://localhost:8080/"
        },
        "id": "ngDHLGghRKK5",
        "outputId": "f8ee1064-8bb1-4b0f-877e-843b849a00a4"
      },
      "outputs": [
        {
          "output_type": "stream",
          "name": "stdout",
          "text": [
            "Enter the Radius of the Circle: 4\n",
            "The Area of the Circle is:  50.272\n",
            "The Perimeter of the Circle is:  25.12\n"
          ]
        }
      ],
      "source": [
        "class Circle():\n",
        "\n",
        "  def radius(self, radius):\n",
        "      rad = radius\n",
        "  def area(self, rad):\n",
        "      area = 3.142*rad*rad\n",
        "      print(\"The Area of the Circle is: \", area)\n",
        "  def peri(self, rad):\n",
        "      area = 2*3.14*rad\n",
        "      print(\"The Perimeter of the Circle is: \", area)\n",
        "\n",
        "c = Circle()\n",
        "radius = int(input(\"Enter the Radius of the Circle: \"))\n",
        "c.area(radius)\n",
        "c.peri(radius)"
      ]
    },
    {
      "cell_type": "code",
      "source": [
        "from tkinter import *\n",
        "\n",
        "class MyWindow:\n",
        "  def __init__(self, win):\n",
        "\n",
        "      lbl = Label"
      ],
      "metadata": {
        "id": "nWf2NZUxVVg0"
      },
      "execution_count": null,
      "outputs": []
    }
  ]
}