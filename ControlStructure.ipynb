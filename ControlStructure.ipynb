{
  "nbformat": 4,
  "nbformat_minor": 0,
  "metadata": {
    "colab": {
      "provenance": [],
      "authorship_tag": "ABX9TyN4LFHm5umI1DI+WDS8RC7Q",
      "include_colab_link": true
    },
    "kernelspec": {
      "name": "python3",
      "display_name": "Python 3"
    },
    "language_info": {
      "name": "python"
    }
  },
  "cells": [
    {
      "cell_type": "markdown",
      "metadata": {
        "id": "view-in-github",
        "colab_type": "text"
      },
      "source": [
        "<a href=\"https://colab.research.google.com/github/ROMEROErnest/58002_OOP/blob/main/ControlStructure.ipynb\" target=\"_parent\"><img src=\"https://colab.research.google.com/assets/colab-badge.svg\" alt=\"Open In Colab\"/></a>"
      ]
    },
    {
      "cell_type": "code",
      "execution_count": 8,
      "metadata": {
        "id": "P64M4NLolH31"
      },
      "outputs": [],
      "source": [
        "#If Statement\n",
        "a = 100\n",
        "b = 100\n",
        "\n",
        "if a>b:\n",
        "  print (\"a is greater than b\")"
      ]
    },
    {
      "cell_type": "code",
      "source": [
        "#Elif Statement\n",
        "\n",
        "if a>b:\n",
        "  print(\"a is greater than b\")\n",
        "elif a<b:\n",
        "    print(\"a is less than b\")"
      ],
      "metadata": {
        "colab": {
          "base_uri": "https://localhost:8080/"
        },
        "id": "vY5ZC0Ldl2ml",
        "outputId": "2d408025-7083-447b-af4f-fb4f1e054182"
      },
      "execution_count": 3,
      "outputs": [
        {
          "output_type": "stream",
          "name": "stdout",
          "text": [
            "a is greater than b\n"
          ]
        }
      ]
    },
    {
      "cell_type": "code",
      "source": [
        "#Else Statement\n",
        "\n",
        "if a>b:\n",
        "  print (\"a is greater than b\")\n",
        "else:\n",
        "  print(\"a is less than b\")"
      ],
      "metadata": {
        "colab": {
          "base_uri": "https://localhost:8080/"
        },
        "id": "Ifnh1ZRYmQdl",
        "outputId": "866b065a-d5bd-4dd1-ed0a-c49589e10aca"
      },
      "execution_count": 4,
      "outputs": [
        {
          "output_type": "stream",
          "name": "stdout",
          "text": [
            "a is greater than b\n"
          ]
        }
      ]
    },
    {
      "cell_type": "markdown",
      "source": [
        "Short Hand if"
      ],
      "metadata": {
        "id": "5NvHNolqmgYt"
      }
    },
    {
      "cell_type": "code",
      "source": [
        "if a==b: print(\"a is equal to b\")"
      ],
      "metadata": {
        "colab": {
          "base_uri": "https://localhost:8080/"
        },
        "id": "Xn_4u2pUmiY1",
        "outputId": "91c85ff4-d874-406c-bf21-9649778d00f2"
      },
      "execution_count": 9,
      "outputs": [
        {
          "output_type": "stream",
          "name": "stdout",
          "text": [
            "a is equal to b\n"
          ]
        }
      ]
    },
    {
      "cell_type": "markdown",
      "source": [
        "Short Hand If Else"
      ],
      "metadata": {
        "id": "nBLiSkl8mw_8"
      }
    },
    {
      "cell_type": "code",
      "source": [
        "print (\"a is greater than b\") if a>b else print(\"a is less than b\")"
      ],
      "metadata": {
        "colab": {
          "base_uri": "https://localhost:8080/"
        },
        "id": "XrmAXHtfm1RU",
        "outputId": "08f7c543-03c1-4ccb-d196-c934a87ab0fd"
      },
      "execution_count": 10,
      "outputs": [
        {
          "output_type": "stream",
          "name": "stdout",
          "text": [
            "a is less than b\n"
          ]
        }
      ]
    },
    {
      "cell_type": "markdown",
      "source": [
        "And Conditonal Statement"
      ],
      "metadata": {
        "id": "w0ywl8HznA_s"
      }
    },
    {
      "cell_type": "code",
      "source": [
        "s = 75\n",
        "t = 70\n",
        "\n",
        "if s>t and t<s:\n",
        "  print (\"s>t and t<s\")"
      ],
      "metadata": {
        "colab": {
          "base_uri": "https://localhost:8080/"
        },
        "id": "4gumh8sinUm7",
        "outputId": "c1c12814-089e-4599-d899-45b1169f77af"
      },
      "execution_count": 17,
      "outputs": [
        {
          "output_type": "stream",
          "name": "stdout",
          "text": [
            "s>t and t<s\n"
          ]
        }
      ]
    },
    {
      "cell_type": "markdown",
      "source": [
        "Or condition"
      ],
      "metadata": {
        "id": "QC_NoFdXoJQt"
      }
    },
    {
      "cell_type": "code",
      "source": [
        "print (\"s>t and t<s\")"
      ],
      "metadata": {
        "colab": {
          "base_uri": "https://localhost:8080/"
        },
        "id": "6rItJSQ4oK0k",
        "outputId": "2d204ba2-de2b-4634-f6fe-9141b67aa46a"
      },
      "execution_count": 18,
      "outputs": [
        {
          "output_type": "stream",
          "name": "stdout",
          "text": [
            "s>t and t<s\n"
          ]
        }
      ]
    },
    {
      "cell_type": "markdown",
      "source": [
        "Nested If"
      ],
      "metadata": {
        "id": "fzAzjF1eqIVT"
      }
    },
    {
      "cell_type": "code",
      "source": [
        "x=41\n",
        "\n",
        "if x>10:\n",
        "  print(\"above 10\")\n",
        "else:\n",
        "  print(\"below 10\")\n",
        "if x>20:\n",
        "  print(\"above 20\")\n",
        "else:\n",
        "  print(\"below 20\")\n",
        "if x>30:\n",
        "  print(\"above 30\")\n",
        "else:\n",
        "  print(\"below 30\")\n",
        "if x>40:\n",
        "  print(\"above 40\")\n",
        "else:\n",
        "  print(\"below 40\")\n",
        "if x>50:\n",
        "  print (\"above 50\")\n",
        "else:\n",
        "  print(\"below 50\")"
      ],
      "metadata": {
        "colab": {
          "base_uri": "https://localhost:8080/"
        },
        "id": "OgJKBVQQqMRs",
        "outputId": "84479b8b-6f99-400a-8a7e-d1cc6f9bd06a"
      },
      "execution_count": 24,
      "outputs": [
        {
          "output_type": "stream",
          "name": "stdout",
          "text": [
            "above 10\n",
            "above 20\n",
            "above 30\n",
            "above 40\n",
            "below 50\n"
          ]
        }
      ]
    },
    {
      "cell_type": "markdown",
      "source": [
        "Example 1"
      ],
      "metadata": {
        "id": "rp5pH6Zcwpjb"
      }
    },
    {
      "cell_type": "code",
      "source": [
        "print (\"Write a program that determines if the input age is qualified to vote or not. The qualifying age is 18 years old and above.\")\n",
        "print (\"\")\n",
        "print (\"Enter your age: \")\n",
        "age = int(input())\n",
        "\n",
        "if age > 18:\n",
        "  print (\"You have the qualifications needed in order to vote.\")\n",
        "else:\n",
        "  print (\"You do not have the minimum age needed in order to vote\")"
      ],
      "metadata": {
        "colab": {
          "base_uri": "https://localhost:8080/"
        },
        "id": "MrJsCxTxw9xJ",
        "outputId": "7d4148fc-3a35-45ab-9ffe-dede15f70534"
      },
      "execution_count": 25,
      "outputs": [
        {
          "output_type": "stream",
          "name": "stdout",
          "text": [
            "Write a program that determines if the input age is qualified to vote or not. The qualifying age is 18 years old and above.\n",
            "\n",
            "Enter your age: \n",
            "19\n",
            "You have the qualifications needed in order to vote.\n"
          ]
        }
      ]
    },
    {
      "cell_type": "markdown",
      "source": [
        "Example 2"
      ],
      "metadata": {
        "id": "iwfmTQKnx1FS"
      }
    },
    {
      "cell_type": "code",
      "source": [
        "print (\"Write a program that determines if the input number is POSITIVE, NEGATIVE, or ZERO\")\n",
        "print (\"\")\n",
        "print (\"Enter your number: \")\n",
        "numb = int(input())\n",
        "\n",
        "if numb > 0:\n",
        "  print (\"The number you encoded is positive.\")\n",
        "elif numb == 0:\n",
        "  print (\"The number is Zero\")\n",
        "else:\n",
        "  print (\"The number you encoded is negative.\")"
      ],
      "metadata": {
        "colab": {
          "base_uri": "https://localhost:8080/"
        },
        "id": "hTj_LIF0x2kC",
        "outputId": "ca67ba7e-bfb8-4fa3-819c-2f0864401b10"
      },
      "execution_count": 29,
      "outputs": [
        {
          "output_type": "stream",
          "name": "stdout",
          "text": [
            "Write a program that determines if the input number is POSITIVE, NEGATIVE, or ZERO\n",
            "\n",
            "Enter your number: \n",
            "-5\n",
            "The number you encoded is negative.\n"
          ]
        }
      ]
    },
    {
      "cell_type": "markdown",
      "source": [
        "Example 3"
      ],
      "metadata": {
        "id": "nPBYWnRjyyry"
      }
    },
    {
      "cell_type": "code",
      "source": [
        "print (\"Write a program to determine if the grades are: If:grade > = 70 , “Passed” grade is 65 to 69, “Remedial” grade > 64 or below, “Failed”\") \n",
        "print (\"Enter your grade: \")\n",
        "grade = int(input())\n",
        "\n",
        "if grade >= 75:\n",
        "  print (\"You have passed from this subject!\")\n",
        "elif grade == 74:\n",
        "  print (\"You need remedial classes.\")\n",
        "else:\n",
        "  print (\"You have failed this class.\")"
      ],
      "metadata": {
        "colab": {
          "base_uri": "https://localhost:8080/"
        },
        "id": "J0pflMWf0eb6",
        "outputId": "4d603989-8f60-4d90-fe70-bc5c18ae138b"
      },
      "execution_count": 32,
      "outputs": [
        {
          "output_type": "stream",
          "name": "stdout",
          "text": [
            "Write a program to determine if the grades are: If:grade > = 70 , “Passed” grade is 65 to 69, “Remedial” grade > 64 or below, “Failed”\n",
            "Enter your grade: \n",
            "75\n",
            "You have passed from this subject!\n"
          ]
        }
      ]
    }
  ]
}